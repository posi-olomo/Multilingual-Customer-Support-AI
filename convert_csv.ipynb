{
 "cells": [
  {
   "cell_type": "code",
   "execution_count": 8,
   "id": "28ab8155",
   "metadata": {},
   "outputs": [],
   "source": [
    "import pandas as pd \n",
    "import numpy as np \n",
    "import os"
   ]
  },
  {
   "cell_type": "code",
   "execution_count": 9,
   "id": "d1753982",
   "metadata": {},
   "outputs": [
    {
     "name": "stdout",
     "output_type": "stream",
     "text": [
      "<class 'pandas.core.frame.DataFrame'>\n",
      "RangeIndex: 2000 entries, 0 to 1999\n",
      "Data columns (total 3 columns):\n",
      " #   Column    Non-Null Count  Dtype \n",
      "---  ------    --------------  ----- \n",
      " 0   combined  2000 non-null   object\n",
      " 1   language  2000 non-null   object\n",
      " 2   queue     2000 non-null   object\n",
      "dtypes: object(3)\n",
      "memory usage: 47.0+ KB\n"
     ]
    }
   ],
   "source": [
    "data_dir = \"translations/v2\"\n",
    "batch_files = [f for f in os.listdir(data_dir)]\n",
    "\n",
    "df1 = pd.DataFrame()\n",
    "\n",
    "for batch_file in batch_files:\n",
    "    batch_path = os.path.join(data_dir, batch_file)\n",
    "    df_temp = pd.read_csv(batch_path)\n",
    "    df1 = pd.concat([df1, df_temp], ignore_index = True)\n",
    "\n",
    "df1.info()"
   ]
  },
  {
   "cell_type": "code",
   "execution_count": 21,
   "id": "224c104f",
   "metadata": {},
   "outputs": [
    {
     "name": "stdout",
     "output_type": "stream",
     "text": [
      "Duplicated rows in df1: 1\n",
      "<class 'pandas.core.frame.DataFrame'>\n",
      "Index: 15230 entries, 0 to 15730\n",
      "Data columns (total 3 columns):\n",
      " #   Column    Non-Null Count  Dtype \n",
      "---  ------    --------------  ----- \n",
      " 0   combined  15230 non-null  object\n",
      " 1   language  15230 non-null  object\n",
      " 2   queue     15230 non-null  object\n",
      "dtypes: object(3)\n",
      "memory usage: 475.9+ KB\n"
     ]
    }
   ],
   "source": [
    "# You can just add the dataframe together and then remove any duplicated rows\n",
    "df = pd.read_csv('data/aa_dataset-tickets-multi-lang-5-2-50-version.csv')\n",
    "\n",
    "df_eng = df[df.language == \"en\"].copy()\n",
    "\n",
    "# Save only English rows with non-null subjects\n",
    "df_chunk = df_eng[(df_eng.subject.notnull()) & (df_eng.subject != '')].copy()\n",
    "df_chunk['combined'] = df_chunk['subject'] + ' [SEP] ' + df_chunk['body']\n",
    "df_chunk = df_chunk[['combined','language', 'queue']]\n",
    "\n",
    "print(\"Duplicated rows in df1:\", df1.duplicated().sum())\n",
    "\n",
    "df_combined = pd.concat([df_chunk, df1], axis=0, ignore_index=True)\n",
    "df_combined = df_combined.drop_duplicates()\n",
    "\n",
    "df_combined.info()"
   ]
  },
  {
   "cell_type": "code",
   "execution_count": 22,
   "id": "464c9f89",
   "metadata": {},
   "outputs": [
    {
     "name": "stdout",
     "output_type": "stream",
     "text": [
      "Technical Support: 4737\n",
      "Returns and Exchanges: 820\n",
      "Billing and Payments: 1595\n",
      "Sales and Pre-Sales: 513\n",
      "Service Outages and Maintenance: 664\n",
      "Product Support: 3073\n",
      "IT Support: 1942\n",
      "Customer Service: 2410\n",
      "Human Resources: 348\n",
      "General Inquiry: 236\n"
     ]
    }
   ],
   "source": [
    "for i in df_eng.queue.unique():\n",
    "    print(f\"{i}: {len(df_eng[df_eng.queue == i])}\")"
   ]
  },
  {
   "cell_type": "code",
   "execution_count": null,
   "id": "adbc68d3",
   "metadata": {},
   "outputs": [
    {
     "name": "stdout",
     "output_type": "stream",
     "text": [
      "<class 'pandas.core.frame.DataFrame'>\n",
      "RangeIndex: 10597 entries, 0 to 10596\n",
      "Data columns (total 3 columns):\n",
      " #   Column    Non-Null Count  Dtype \n",
      "---  ------    --------------  ----- \n",
      " 0   combined  10597 non-null  object\n",
      " 1   language  10597 non-null  object\n",
      " 2   queue     10597 non-null  object\n",
      "dtypes: object(3)\n",
      "memory usage: 248.5+ KB\n"
     ]
    }
   ],
   "source": [
    "queues = ['Technical Support', 'Billing and Payments', 'Product Support', 'IT Support', 'Customer Service']\n",
    "mask = (df_combined['queue'].isin(queues)) & (df_combined['language'] == 'en')\n",
    "\n",
    "# Get indices to drop: sample 20% from each queue\n",
    "drop_indices = []\n",
    "for q in queues:\n",
    "    idx = df_combined[mask].sample(frac=0.4, random_state=42).index\n",
    "    drop_indices.extend(idx)\n",
    "\n",
    "# Drop the selected rows\n",
    "df_reduced = df_combined.drop(index=drop_indices).reset_index(drop=True)\n",
    "df_reduced.info()"
   ]
  },
  {
   "cell_type": "code",
   "execution_count": 27,
   "id": "f087dc19",
   "metadata": {},
   "outputs": [
    {
     "name": "stdout",
     "output_type": "stream",
     "text": [
      "en: 9098\n",
      "yor: 500\n",
      "ibo: 500\n",
      "hau: 499\n"
     ]
    }
   ],
   "source": [
    "for lang in df_reduced.language.unique():\n",
    "    print(f\"{lang}: {len(df_reduced[df_reduced.language == lang])}\")"
   ]
  },
  {
   "cell_type": "code",
   "execution_count": 28,
   "id": "5a579e25",
   "metadata": {},
   "outputs": [],
   "source": [
    "df_reduced.to_csv('data/final_dataset.csv', index=False)"
   ]
  },
  {
   "cell_type": "code",
   "execution_count": null,
   "id": "9ec12208",
   "metadata": {},
   "outputs": [],
   "source": [
    "batch_dir = \"translations\"\n",
    "batch_files = sorted([f for f in os.listdir(batch_dir) if f.startswith(\"translated_batch\")])\n",
    "\n",
    "for i, batch_file in enumerate(batch_files, 1):\n",
    "    batch_path = os.path.join(batch_dir, batch_file)\n",
    "    df = pd.read_csv(batch_path)\n",
    "\n",
    "    columns = [\"yor_Latn\", \"ibo_Latn\", \"hau_Latn\"]\n",
    "\n",
    "    ff = df[columns].copy()\n",
    "\n",
    "    df.drop(columns=columns, inplace=True)\n",
    "\n",
    "    new_df = pd.DataFrame(columns= [\"combined\", \"language\", \"queue\"])\n",
    "\n",
    "    for i in columns:\n",
    "        new_df[\"combined\"] = ff[[i]]\n",
    "        new_df[\"language\"] = i.split(\"_\")[0]\n",
    "        new_df[\"queue\"] = df[\"queue\"]\n",
    "        df = pd.concat([df, new_df], axis=0, ignore_index=True)\n",
    "    \n",
    "    df.to_csv(f\"translations/translated_batch{i}_v2.csv\")\n",
    "    "
   ]
  },
  {
   "cell_type": "code",
   "execution_count": 17,
   "id": "638c4d40",
   "metadata": {},
   "outputs": [
    {
     "name": "stdout",
     "output_type": "stream",
     "text": [
      "50\n"
     ]
    },
    {
     "data": {
      "text/html": [
       "<div>\n",
       "<style scoped>\n",
       "    .dataframe tbody tr th:only-of-type {\n",
       "        vertical-align: middle;\n",
       "    }\n",
       "\n",
       "    .dataframe tbody tr th {\n",
       "        vertical-align: top;\n",
       "    }\n",
       "\n",
       "    .dataframe thead th {\n",
       "        text-align: right;\n",
       "    }\n",
       "</style>\n",
       "<table border=\"1\" class=\"dataframe\">\n",
       "  <thead>\n",
       "    <tr style=\"text-align: right;\">\n",
       "      <th></th>\n",
       "      <th>combined</th>\n",
       "      <th>language</th>\n",
       "      <th>queue</th>\n",
       "      <th>yor_Latn</th>\n",
       "      <th>ibo_Latn</th>\n",
       "      <th>hau_Latn</th>\n",
       "    </tr>\n",
       "  </thead>\n",
       "  <tbody>\n",
       "    <tr>\n",
       "      <th>0</th>\n",
       "      <td>Assistance with IFTTT Integration [SEP] Lookin...</td>\n",
       "      <td>en</td>\n",
       "      <td>Technical Support</td>\n",
       "      <td>Ìrànlọ́wọ́ nínú ìdarapọ̀ IFTTT [SEP] Ṣíwá àwọn...</td>\n",
       "      <td>Enyemaka na IFTTT Integration [SEP] Ị na-achọ ...</td>\n",
       "      <td>Taimako tare da IFTTT Haɗuwa [SEP] Neman cikak...</td>\n",
       "    </tr>\n",
       "    <tr>\n",
       "      <th>1</th>\n",
       "      <td>Incident of Medical Data Security [SEP] Custom...</td>\n",
       "      <td>en</td>\n",
       "      <td>Technical Support</td>\n",
       "      <td>Ìṣẹ̀lẹ̀ Ìṣirò Ìsọfúnni Ìsọfúnni Ìsọfúnni Ìsọfú...</td>\n",
       "      <td>Ihe omume nke Medical Data Security [SEP] Nkwa...</td>\n",
       "      <td>Rikicin Tsaron Bayanai na Likita [SEP] Tallafi...</td>\n",
       "    </tr>\n",
       "    <tr>\n",
       "      <th>2</th>\n",
       "      <td>Guidance on Integrating Microsoft Azure with M...</td>\n",
       "      <td>en</td>\n",
       "      <td>Technical Support</td>\n",
       "      <td>Ìdarí lórí kíkó Microsoft Azure jọ sí Monday.c...</td>\n",
       "      <td>Nduzi na ijikọta Microsoft Azure na Monday.com...</td>\n",
       "      <td>Jagora kan Haɗa Microsoft Azure tare da Ayyuka...</td>\n",
       "    </tr>\n",
       "    <tr>\n",
       "      <th>3</th>\n",
       "      <td>System Performance Problems [SEP] The company ...</td>\n",
       "      <td>en</td>\n",
       "      <td>Technical Support</td>\n",
       "      <td>Awọn iṣoro iṣẹ eto [SEP] Ile-iṣẹ naa pade awọn...</td>\n",
       "      <td>Nsogbu arụmọrụ usoro [SEP] Ụlọ ọrụ ahụ zutere ...</td>\n",
       "      <td>Matsalolin Ayyukan Tsarin [SEP] Kamfanin ya sa...</td>\n",
       "    </tr>\n",
       "    <tr>\n",
       "      <th>4</th>\n",
       "      <td>Detected Unauthorized Access Attempt [SEP] The...</td>\n",
       "      <td>en</td>\n",
       "      <td>Technical Support</td>\n",
       "      <td>A ti rí ìfilọ́ sí ìfilọ́ sí ìfilọ́ sí ìfilọ́ s...</td>\n",
       "      <td>Achọpụtala Mgbalị Access A Na-anaghị Enye Iwu ...</td>\n",
       "      <td>An gano Yunkurin Samun izini mara izini [SEP] ...</td>\n",
       "    </tr>\n",
       "  </tbody>\n",
       "</table>\n",
       "</div>"
      ],
      "text/plain": [
       "                                            combined language  \\\n",
       "0  Assistance with IFTTT Integration [SEP] Lookin...       en   \n",
       "1  Incident of Medical Data Security [SEP] Custom...       en   \n",
       "2  Guidance on Integrating Microsoft Azure with M...       en   \n",
       "3  System Performance Problems [SEP] The company ...       en   \n",
       "4  Detected Unauthorized Access Attempt [SEP] The...       en   \n",
       "\n",
       "               queue                                           yor_Latn  \\\n",
       "0  Technical Support  Ìrànlọ́wọ́ nínú ìdarapọ̀ IFTTT [SEP] Ṣíwá àwọn...   \n",
       "1  Technical Support  Ìṣẹ̀lẹ̀ Ìṣirò Ìsọfúnni Ìsọfúnni Ìsọfúnni Ìsọfú...   \n",
       "2  Technical Support  Ìdarí lórí kíkó Microsoft Azure jọ sí Monday.c...   \n",
       "3  Technical Support  Awọn iṣoro iṣẹ eto [SEP] Ile-iṣẹ naa pade awọn...   \n",
       "4  Technical Support  A ti rí ìfilọ́ sí ìfilọ́ sí ìfilọ́ sí ìfilọ́ s...   \n",
       "\n",
       "                                            ibo_Latn  \\\n",
       "0  Enyemaka na IFTTT Integration [SEP] Ị na-achọ ...   \n",
       "1  Ihe omume nke Medical Data Security [SEP] Nkwa...   \n",
       "2  Nduzi na ijikọta Microsoft Azure na Monday.com...   \n",
       "3  Nsogbu arụmọrụ usoro [SEP] Ụlọ ọrụ ahụ zutere ...   \n",
       "4  Achọpụtala Mgbalị Access A Na-anaghị Enye Iwu ...   \n",
       "\n",
       "                                            hau_Latn  \n",
       "0  Taimako tare da IFTTT Haɗuwa [SEP] Neman cikak...  \n",
       "1  Rikicin Tsaron Bayanai na Likita [SEP] Tallafi...  \n",
       "2  Jagora kan Haɗa Microsoft Azure tare da Ayyuka...  \n",
       "3  Matsalolin Ayyukan Tsarin [SEP] Kamfanin ya sa...  \n",
       "4  An gano Yunkurin Samun izini mara izini [SEP] ...  "
      ]
     },
     "execution_count": 17,
     "metadata": {},
     "output_type": "execute_result"
    }
   ],
   "source": [
    "df = pd.read_csv(\"translations/translated_batch0.csv\")\n",
    "print(len(df[df.queue == \"Technical Support\"]))\n",
    "df.head()"
   ]
  },
  {
   "cell_type": "markdown",
   "id": "8bd75e30",
   "metadata": {},
   "source": [
    "Remove the columns from the df \n",
    "Create a new df\n",
    "Create the yoruba, Igbo and Hausa data in the new df\n",
    "Concat both dfs."
   ]
  },
  {
   "cell_type": "code",
   "execution_count": 22,
   "id": "224d359f",
   "metadata": {},
   "outputs": [
    {
     "data": {
      "text/html": [
       "<div>\n",
       "<style scoped>\n",
       "    .dataframe tbody tr th:only-of-type {\n",
       "        vertical-align: middle;\n",
       "    }\n",
       "\n",
       "    .dataframe tbody tr th {\n",
       "        vertical-align: top;\n",
       "    }\n",
       "\n",
       "    .dataframe thead th {\n",
       "        text-align: right;\n",
       "    }\n",
       "</style>\n",
       "<table border=\"1\" class=\"dataframe\">\n",
       "  <thead>\n",
       "    <tr style=\"text-align: right;\">\n",
       "      <th></th>\n",
       "      <th>combined</th>\n",
       "      <th>language</th>\n",
       "      <th>queue</th>\n",
       "    </tr>\n",
       "  </thead>\n",
       "  <tbody>\n",
       "    <tr>\n",
       "      <th>390</th>\n",
       "      <td>Matsalar da ke tattare da Bayanan Bayanai [SEP...</td>\n",
       "      <td>hau</td>\n",
       "      <td>Returns and Exchanges</td>\n",
       "    </tr>\n",
       "    <tr>\n",
       "      <th>391</th>\n",
       "      <td>Sanarwar Lokaci na Tsarin [SEP] An sami katsew...</td>\n",
       "      <td>hau</td>\n",
       "      <td>Returns and Exchanges</td>\n",
       "    </tr>\n",
       "    <tr>\n",
       "      <th>392</th>\n",
       "      <td>Sauran ra'ayoyin dawowar saka hannun jari [SEP...</td>\n",
       "      <td>hau</td>\n",
       "      <td>Returns and Exchanges</td>\n",
       "    </tr>\n",
       "    <tr>\n",
       "      <th>393</th>\n",
       "      <td>Taimako da ake buƙata don batun Haɗuwa [SEP] A...</td>\n",
       "      <td>hau</td>\n",
       "      <td>Returns and Exchanges</td>\n",
       "    </tr>\n",
       "    <tr>\n",
       "      <th>394</th>\n",
       "      <td>Bayanin Tsaro na Likita [SEP] Shin zai yiwu a ...</td>\n",
       "      <td>hau</td>\n",
       "      <td>Returns and Exchanges</td>\n",
       "    </tr>\n",
       "    <tr>\n",
       "      <th>395</th>\n",
       "      <td>Tsaron Bayanai a Kula da Lafiya [SEP] Za ka iy...</td>\n",
       "      <td>hau</td>\n",
       "      <td>Returns and Exchanges</td>\n",
       "    </tr>\n",
       "    <tr>\n",
       "      <th>396</th>\n",
       "      <td>Taimako Game da Kamfanin Talla [SEP] Kamfanin ...</td>\n",
       "      <td>hau</td>\n",
       "      <td>Returns and Exchanges</td>\n",
       "    </tr>\n",
       "    <tr>\n",
       "      <th>397</th>\n",
       "      <td>Rahoton dawowar saka hannun jari Rashin daidai...</td>\n",
       "      <td>hau</td>\n",
       "      <td>Returns and Exchanges</td>\n",
       "    </tr>\n",
       "    <tr>\n",
       "      <th>398</th>\n",
       "      <td>Bambanci a cikin tsinkayar saka hannun jari sa...</td>\n",
       "      <td>hau</td>\n",
       "      <td>Returns and Exchanges</td>\n",
       "    </tr>\n",
       "    <tr>\n",
       "      <th>399</th>\n",
       "      <td>Tallafawa Batutuwa na Fasaha [SEP] Kayan aikin...</td>\n",
       "      <td>hau</td>\n",
       "      <td>Returns and Exchanges</td>\n",
       "    </tr>\n",
       "  </tbody>\n",
       "</table>\n",
       "</div>"
      ],
      "text/plain": [
       "                                              combined language  \\\n",
       "390  Matsalar da ke tattare da Bayanan Bayanai [SEP...      hau   \n",
       "391  Sanarwar Lokaci na Tsarin [SEP] An sami katsew...      hau   \n",
       "392  Sauran ra'ayoyin dawowar saka hannun jari [SEP...      hau   \n",
       "393  Taimako da ake buƙata don batun Haɗuwa [SEP] A...      hau   \n",
       "394  Bayanin Tsaro na Likita [SEP] Shin zai yiwu a ...      hau   \n",
       "395  Tsaron Bayanai a Kula da Lafiya [SEP] Za ka iy...      hau   \n",
       "396  Taimako Game da Kamfanin Talla [SEP] Kamfanin ...      hau   \n",
       "397  Rahoton dawowar saka hannun jari Rashin daidai...      hau   \n",
       "398  Bambanci a cikin tsinkayar saka hannun jari sa...      hau   \n",
       "399  Tallafawa Batutuwa na Fasaha [SEP] Kayan aikin...      hau   \n",
       "\n",
       "                     queue  \n",
       "390  Returns and Exchanges  \n",
       "391  Returns and Exchanges  \n",
       "392  Returns and Exchanges  \n",
       "393  Returns and Exchanges  \n",
       "394  Returns and Exchanges  \n",
       "395  Returns and Exchanges  \n",
       "396  Returns and Exchanges  \n",
       "397  Returns and Exchanges  \n",
       "398  Returns and Exchanges  \n",
       "399  Returns and Exchanges  "
      ]
     },
     "execution_count": 22,
     "metadata": {},
     "output_type": "execute_result"
    }
   ],
   "source": [
    "df = pd.read_csv(\"translations/translated_batch0.csv\")\n",
    "\n",
    "columns = [\"yor_Latn\", \"ibo_Latn\", \"hau_Latn\"]\n",
    "\n",
    "ff = df[columns].copy()\n",
    "\n",
    "df.drop(columns=columns, inplace=True)\n",
    "\n",
    "new_df = pd.DataFrame(columns= [\"combined\", \"language\", \"queue\"])\n",
    "\n",
    "for i in columns:\n",
    "    new_df[\"combined\"] = ff[[i]]\n",
    "    new_df[\"language\"] = i.split(\"_\")[0]\n",
    "    new_df[\"queue\"] = df[\"queue\"]\n",
    "    df = pd.concat([df, new_df], axis=0, ignore_index=True)\n",
    "\n",
    "df.tail(10)"
   ]
  },
  {
   "cell_type": "code",
   "execution_count": null,
   "id": "6ece7f40",
   "metadata": {},
   "outputs": [],
   "source": [
    "df.to_csv(\"translations/translated_batch0_combined.csv\")"
   ]
  },
  {
   "cell_type": "code",
   "execution_count": 23,
   "id": "7b5bcd97",
   "metadata": {},
   "outputs": [
    {
     "name": "stdout",
     "output_type": "stream",
     "text": [
      "<class 'pandas.core.frame.DataFrame'>\n",
      "RangeIndex: 400 entries, 0 to 399\n",
      "Data columns (total 3 columns):\n",
      " #   Column    Non-Null Count  Dtype \n",
      "---  ------    --------------  ----- \n",
      " 0   combined  400 non-null    object\n",
      " 1   language  400 non-null    object\n",
      " 2   queue     400 non-null    object\n",
      "dtypes: object(3)\n",
      "memory usage: 9.5+ KB\n"
     ]
    }
   ],
   "source": [
    "df.info()"
   ]
  },
  {
   "cell_type": "code",
   "execution_count": 24,
   "id": "a025b2d8",
   "metadata": {},
   "outputs": [
    {
     "data": {
      "text/html": [
       "<div>\n",
       "<style scoped>\n",
       "    .dataframe tbody tr th:only-of-type {\n",
       "        vertical-align: middle;\n",
       "    }\n",
       "\n",
       "    .dataframe tbody tr th {\n",
       "        vertical-align: top;\n",
       "    }\n",
       "\n",
       "    .dataframe thead th {\n",
       "        text-align: right;\n",
       "    }\n",
       "</style>\n",
       "<table border=\"1\" class=\"dataframe\">\n",
       "  <thead>\n",
       "    <tr style=\"text-align: right;\">\n",
       "      <th></th>\n",
       "      <th>combined</th>\n",
       "      <th>language</th>\n",
       "      <th>queue</th>\n",
       "    </tr>\n",
       "  </thead>\n",
       "  <tbody>\n",
       "    <tr>\n",
       "      <th>0</th>\n",
       "      <td>Assistance with IFTTT Integration [SEP] Lookin...</td>\n",
       "      <td>en</td>\n",
       "      <td>Technical Support</td>\n",
       "    </tr>\n",
       "    <tr>\n",
       "      <th>1</th>\n",
       "      <td>Incident of Medical Data Security [SEP] Custom...</td>\n",
       "      <td>en</td>\n",
       "      <td>Technical Support</td>\n",
       "    </tr>\n",
       "    <tr>\n",
       "      <th>2</th>\n",
       "      <td>Guidance on Integrating Microsoft Azure with M...</td>\n",
       "      <td>en</td>\n",
       "      <td>Technical Support</td>\n",
       "    </tr>\n",
       "    <tr>\n",
       "      <th>3</th>\n",
       "      <td>System Performance Problems [SEP] The company ...</td>\n",
       "      <td>en</td>\n",
       "      <td>Technical Support</td>\n",
       "    </tr>\n",
       "    <tr>\n",
       "      <th>4</th>\n",
       "      <td>Detected Unauthorized Access Attempt [SEP] The...</td>\n",
       "      <td>en</td>\n",
       "      <td>Technical Support</td>\n",
       "    </tr>\n",
       "  </tbody>\n",
       "</table>\n",
       "</div>"
      ],
      "text/plain": [
       "                                            combined language  \\\n",
       "0  Assistance with IFTTT Integration [SEP] Lookin...       en   \n",
       "1  Incident of Medical Data Security [SEP] Custom...       en   \n",
       "2  Guidance on Integrating Microsoft Azure with M...       en   \n",
       "3  System Performance Problems [SEP] The company ...       en   \n",
       "4  Detected Unauthorized Access Attempt [SEP] The...       en   \n",
       "\n",
       "               queue  \n",
       "0  Technical Support  \n",
       "1  Technical Support  \n",
       "2  Technical Support  \n",
       "3  Technical Support  \n",
       "4  Technical Support  "
      ]
     },
     "execution_count": 24,
     "metadata": {},
     "output_type": "execute_result"
    }
   ],
   "source": [
    "df.head()"
   ]
  },
  {
   "cell_type": "code",
   "execution_count": 25,
   "id": "8372ca62",
   "metadata": {},
   "outputs": [
    {
     "name": "stdout",
     "output_type": "stream",
     "text": [
      "100\n"
     ]
    }
   ],
   "source": [
    "print(len(df[df.language == \"ibo\"]))"
   ]
  },
  {
   "cell_type": "code",
   "execution_count": 26,
   "id": "a2b12a0f",
   "metadata": {},
   "outputs": [
    {
     "name": "stdout",
     "output_type": "stream",
     "text": [
      "200\n"
     ]
    }
   ],
   "source": [
    "print(len(df[df.queue == \"Technical Support\"]))"
   ]
  },
  {
   "cell_type": "code",
   "execution_count": null,
   "id": "8b684d5a",
   "metadata": {},
   "outputs": [],
   "source": []
  }
 ],
 "metadata": {
  "kernelspec": {
   "display_name": ".venv",
   "language": "python",
   "name": "python3"
  },
  "language_info": {
   "codemirror_mode": {
    "name": "ipython",
    "version": 3
   },
   "file_extension": ".py",
   "mimetype": "text/x-python",
   "name": "python",
   "nbconvert_exporter": "python",
   "pygments_lexer": "ipython3",
   "version": "3.13.5"
  }
 },
 "nbformat": 4,
 "nbformat_minor": 5
}
